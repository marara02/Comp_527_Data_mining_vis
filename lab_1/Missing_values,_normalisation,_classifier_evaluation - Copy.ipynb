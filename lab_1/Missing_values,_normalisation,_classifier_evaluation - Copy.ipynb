{
 "cells": [
  {
   "cell_type": "markdown",
   "metadata": {
    "id": "pLDpfI3OWom_"
   },
   "source": [
    "# Missing values, normalisation, classifier evaluation"
   ]
  },
  {
   "cell_type": "code",
   "execution_count": 40,
   "metadata": {
    "id": "98yz2tcnWonD"
   },
   "outputs": [],
   "source": [
    "import numpy as np\n",
    "from matplotlib import pyplot as plt \n",
    "from sklearn import preprocessing\n",
    "import seaborn as sns"
   ]
  },
  {
   "cell_type": "markdown",
   "metadata": {
    "id": "cmJYIkc1WonD"
   },
   "source": [
    "## Exercise 1\n",
    "\n",
    "Given dataset (as an Numpy array) that contains  records about 50 persons: (Gender, Height, Weight, Index).\n",
    "- Gender = 0 (Male); 1 (Female) (binary)\n",
    "- Height = person's height in cm (integer)\n",
    "- Weight = person's weight in kg (integer)\n",
    "- Index = 0 - Extremely Weak; 1 - Weak; 2 - Normal; 3 - Overweight; 4 - Obesity; 5 - Extreme Obesity (integer from 0 to 5)"
   ]
  },
  {
   "cell_type": "code",
   "execution_count": 4,
   "metadata": {
    "id": "pmPGci4TWonE"
   },
   "outputs": [],
   "source": [
    "dataset = np.array([[0, 174, -1, 4], [0, 189, 87, 2], [1, 185, 110, 4], [1, 195, 104, 3], [0, 149, 61, 3], [0, 1893, 104, 3], [0, 147, 92, 5], [0, 154, 111, 5], [0, 174, 2, 3], [10, 169, 103, 4], [0, 195, 81, 2], [-1, 159, 80, 4], [1, 192, 101, 3], [0, 155, 51, 2], [0, 191, 379, 2], [1, 4, 107, 5], [1, 157, 110, 5], [0, 140, 129, 5], [0, 144, 145, 5], [0, 172, 139, -5], [0, 157, 110, 5], [1, 153, 149, 5], [1, 169, 97, 4], [0, 185, 139, 5], [1, 172, 67, 2], [1, 151, 64, 3], [0, 190, 95, 3], [0, 187, 62, 1], [1, 163, 159, 5], [0, 179, 152, 5], [0, 153, 121, 5], [0, 178, 52, 1], [1, 195, 65, 1], [1, 160, 131, 5], [1, 157, 153, 5], [1, 189, 132, 4], [1, 197, 114, 3], [0, 144, 80, 4], [1, 171, 152, 5], [1, 185, 81, 2], [1, 175, 120, 4], [1, 149, 108, 5], [0, 157, 56, 2], [0, 161, 118, 5], [1, 182, 126, 4], [0, 185, 76, 2], [1, 188, 122, 4], [0, 181, 111, 4], [0, 161, 72, 3], [0, 140, 152, 5]])"
   ]
  },
  {
   "cell_type": "markdown",
   "metadata": {
    "id": "U1jvxnezWonE"
   },
   "source": [
    "1. Output the records with noisy data, i.e., records where values of some features are most likely incorrect (you can assume that Height should be in the range $[50,220]$, and Weight in the range $[50, 160]$)"
   ]
  },
  {
   "cell_type": "code",
   "execution_count": 5,
   "metadata": {
    "id": "Md8nZ-xpWonE"
   },
   "outputs": [
    {
     "name": "stdout",
     "output_type": "stream",
     "text": [
      "Records with noisy data:\n",
      "[  0 174  -1   4]\n",
      "[   0 1893  104    3]\n",
      "[  0 174   2   3]\n",
      "[  0 191 379   2]\n",
      "[  1   4 107   5]\n"
     ]
    }
   ],
   "source": [
    "height = dataset[:, 1].astype(int)\n",
    "weight = dataset[:, 2].astype(int)\n",
    "\n",
    "noisy_data = np.where(~((height >= 50) & (height <= 220) & (weight >= 50) & (weight <= 160)))\n",
    "\n",
    "noisy_records = dataset[noisy_data]\n",
    "\n",
    "print(\"Records with noisy data:\")\n",
    "for record in noisy_records:\n",
    "    print(record)"
   ]
  },
  {
   "cell_type": "markdown",
   "metadata": {
    "id": "J46aFmBKWonE"
   },
   "source": [
    "2. Create a new dataset where noisy records (those that were identified as noisy in the previous step) are removed"
   ]
  },
  {
   "cell_type": "code",
   "execution_count": 8,
   "metadata": {
    "id": "dwwQUiWhWonF"
   },
   "outputs": [],
   "source": [
    "without_noise = np.delete(dataset, noisy_data, axis=0)"
   ]
  },
  {
   "cell_type": "code",
   "execution_count": 9,
   "metadata": {},
   "outputs": [
    {
     "name": "stdout",
     "output_type": "stream",
     "text": [
      "Records without noisy data:\n",
      "[  0 189  87   2]\n",
      "[  1 185 110   4]\n",
      "[  1 195 104   3]\n",
      "[  0 149  61   3]\n",
      "[  0 147  92   5]\n",
      "[  0 154 111   5]\n",
      "[ 10 169 103   4]\n",
      "[  0 195  81   2]\n",
      "[ -1 159  80   4]\n",
      "[  1 192 101   3]\n",
      "[  0 155  51   2]\n",
      "[  1 157 110   5]\n",
      "[  0 140 129   5]\n",
      "[  0 144 145   5]\n",
      "[  0 172 139  -5]\n",
      "[  0 157 110   5]\n",
      "[  1 153 149   5]\n",
      "[  1 169  97   4]\n",
      "[  0 185 139   5]\n",
      "[  1 172  67   2]\n",
      "[  1 151  64   3]\n",
      "[  0 190  95   3]\n",
      "[  0 187  62   1]\n",
      "[  1 163 159   5]\n",
      "[  0 179 152   5]\n",
      "[  0 153 121   5]\n",
      "[  0 178  52   1]\n",
      "[  1 195  65   1]\n",
      "[  1 160 131   5]\n",
      "[  1 157 153   5]\n",
      "[  1 189 132   4]\n",
      "[  1 197 114   3]\n",
      "[  0 144  80   4]\n",
      "[  1 171 152   5]\n",
      "[  1 185  81   2]\n",
      "[  1 175 120   4]\n",
      "[  1 149 108   5]\n",
      "[  0 157  56   2]\n",
      "[  0 161 118   5]\n",
      "[  1 182 126   4]\n",
      "[  0 185  76   2]\n",
      "[  1 188 122   4]\n",
      "[  0 181 111   4]\n",
      "[  0 161  72   3]\n",
      "[  0 140 152   5]\n"
     ]
    }
   ],
   "source": [
    "print(\"Records without noisy data:\")\n",
    "for record in without_noise:\n",
    "    print(record)"
   ]
  },
  {
   "cell_type": "markdown",
   "metadata": {
    "id": "HgiCe7VRWonF"
   },
   "source": [
    "3. In the cleaned dataset, compute the means (i.e., average) of Height and Weight features (rounded to the nearest integer)"
   ]
  },
  {
   "cell_type": "code",
   "execution_count": 22,
   "metadata": {
    "id": "0f3BA-LIWonF"
   },
   "outputs": [
    {
     "data": {
      "text/plain": [
       "array([169.24444444, 105.33333333])"
      ]
     },
     "execution_count": 22,
     "metadata": {},
     "output_type": "execute_result"
    }
   ],
   "source": [
    "average_height_weight = without_noise[:,[1,2]]\n",
    "np.mean(average_height_weight, axis=0)\n",
    "\n",
    "# axis = 0 --> by column, axis = 1 --> by row"
   ]
  },
  {
   "cell_type": "markdown",
   "metadata": {
    "id": "GuII8W8sWonF"
   },
   "source": [
    "4. Plot the data points from the cleaned dataset: For every record, plot the point with coordinates (Height, Weight), i.e. Height is along the X-axis and Weight is along the Y-axis. Use different colors/shapes of points for records with different value of Index. Can you see separation between the classes of objects with different values of Index?"
   ]
  },
  {
   "cell_type": "code",
   "execution_count": 25,
   "metadata": {
    "id": "wrOCL6EdWonF"
   },
   "outputs": [
    {
     "data": {
      "image/png": "[encoded data removed]",
      "text/plain": [
       "<Figure size 800x600 with 1 Axes>"
      ]
     },
     "metadata": {},
     "output_type": "display_data"
    }
   ],
   "source": [
    "h = without_noise[:, 1].astype(int)\n",
    "w = without_noise[:, 2].astype(int)\n",
    "\n",
    "plt.figure(figsize=(8, 6))\n",
    "plt.scatter(h, w, color=\"orange\")\n",
    "plt.title(\"Height and weight relation\") \n",
    "plt.xlabel(\"Height\") \n",
    "plt.ylabel(\"Weight\") \n",
    "plt.grid(True) \n",
    "plt.show()"
   ]
  },
  {
   "cell_type": "markdown",
   "metadata": {
    "id": "_Lg7XlDeWonF"
   },
   "source": [
    "---\n",
    "\n",
    "## Exercise 2\n",
    "\n",
    "Given a dataset of objects with 2 features, create new datasets where both features are normalised."
   ]
  },
  {
   "cell_type": "code",
   "execution_count": 31,
   "metadata": {
    "id": "0KEr4M3lWonG"
   },
   "outputs": [],
   "source": [
    "dataset2 = np.array([[116.87714213,  22.38724318],[ 98.05089468,  17.70419866],[121.91732905,  20.76950035],[150.60375643,  20.44777321],[116.15969721,  20.22792041],[175.55264595,  21.02920868],[130.2102414 ,  22.23461658],[117.79758934,  21.54449521],[199.05450964,  20.53902401],[155.00458477,  20.67588878],[160.27851623,  20.30877322],[142.49587465,  18.75387901],[167.32252309,  21.2040159 ],[178.11489609,  19.52285308],[135.76602655,  18.01816954],[117.62628615,  20.95436217],[171.74626081,  20.37269529],[130.11860385,  19.56387712],[122.68044125,  21.48927022],[159.43238282,  21.38030275],[108.78123817,  19.86203164],[152.70729255,  21.24708246],[143.64358057,  21.40357256],[209.68785285,  19.65378059],[133.08486628,  19.23372601],[138.2204662 ,  20.37983756],[143.65610499,  19.92235183],[143.29146765,  20.56157279],[106.79099845,  19.35181412],[208.89304694,  19.9697894 ],[183.55451445,  20.36281171],[144.46962995,  19.83011097],[174.87583233,  20.25079178],[137.33207546,  21.02909898],[187.74834101,  20.23883521],[127.59840561,  21.7328862 ],[110.15966458,  19.29460209],[130.82208863,  18.98107528],[166.72373008,  20.63258552],[154.50866392,  21.05583445],[190.93412702,  21.08776453],[148.62481651,  19.40248102],[115.50503568,  18.39916603],[155.39233722,  20.23610734],[146.44242825,  20.30917973],[114.21209804,  19.10945672],[140.4159023 ,  19.96369514],[140.82108456,  20.05603083],[129.50278428,  18.92210224],[174.88635445,  19.03980704]])"
   ]
  },
  {
   "cell_type": "markdown",
   "metadata": {
    "id": "DIJVfyAkWonG"
   },
   "source": [
    "1. Normalise features with $[0,1]$-scaling"
   ]
  },
  {
   "cell_type": "code",
   "execution_count": 33,
   "metadata": {
    "id": "K_stin6fWonG"
   },
   "outputs": [
    {
     "name": "stdout",
     "output_type": "stream",
     "text": [
      "[[0.51656973 0.02439293]\n",
      " [0.418508   0.        ]\n",
      " [0.54282293 0.01596647]\n",
      " [0.69224413 0.01429067]\n",
      " [0.51283271 0.0131455 ]\n",
      " [0.82219733 0.01731923]\n",
      " [0.58601886 0.02359794]\n",
      " [0.52136413 0.02000325]\n",
      " [0.94461329 0.01476597]\n",
      " [0.71516706 0.01547887]\n",
      " [0.74263779 0.01356665]\n",
      " [0.65001198 0.00546755]\n",
      " [0.77932845 0.01822977]\n",
      " [0.83554352 0.00947296]\n",
      " [0.61495771 0.0016354 ]\n",
      " [0.52047185 0.01692938]\n",
      " [0.80237072 0.0138996 ]\n",
      " [0.58554154 0.00968665]\n",
      " [0.54679781 0.01971559]\n",
      " [0.73823047 0.01914801]\n",
      " [0.47439997 0.01123967]\n",
      " [0.70320098 0.01845409]\n",
      " [0.65599013 0.01926921]\n",
      " [1.         0.01015494]\n",
      " [0.60099214 0.00796697]\n",
      " [0.62774234 0.01393681]\n",
      " [0.65605537 0.01155386]\n",
      " [0.65415605 0.01488342]\n",
      " [0.46403325 0.00858206]\n",
      " [0.99586003 0.01180096]\n",
      " [0.86387727 0.01384812]\n",
      " [0.66029283 0.0110734 ]\n",
      " [0.81867196 0.01326464]\n",
      " [0.62311491 0.01731866]\n",
      " [0.88572198 0.01320236]\n",
      " [0.57241439 0.02098453]\n",
      " [0.48157988 0.00828406]\n",
      " [0.58920584 0.00665097]\n",
      " [0.77620947 0.01525331]\n",
      " [0.71258392 0.01745792]\n",
      " [0.90231603 0.01762424]\n",
      " [0.68193627 0.00884597]\n",
      " [0.50942273 0.00361993]\n",
      " [0.71718678 0.01318815]\n",
      " [0.6705687  0.01356876]\n",
      " [0.50268811 0.00731968]\n",
      " [0.63917787 0.01176921]\n",
      " [0.64128838 0.01225017]\n",
      " [0.58233388 0.00634379]\n",
      " [0.81872676 0.00695689]]\n"
     ]
    }
   ],
   "source": [
    "normalizedData = (dataset2-np.min(dataset2))/(np.max(dataset2)-np.min(dataset2)) \n",
    "print(normalizedData)"
   ]
  },
  {
   "cell_type": "markdown",
   "metadata": {
    "id": "pnUmKT_KWonG"
   },
   "source": [
    "2. Normalise features with Gaussian normalisation"
   ]
  },
  {
   "cell_type": "code",
   "execution_count": 36,
   "metadata": {
    "id": "ecZG3KCzWonG"
   },
   "outputs": [
    {
     "name": "stdout",
     "output_type": "stream",
     "text": [
      "[[ 0.50690967 -0.92417146]\n",
      " [ 0.22177986 -0.99509773]\n",
      " [ 0.58324499 -0.94867271]\n",
      " [ 1.01771053 -0.95354538]\n",
      " [ 0.49604373 -0.95687512]\n",
      " [ 1.3955698  -0.94473934]\n",
      " [ 0.70884392 -0.92648304]\n",
      " [ 0.52085015 -0.93693516]\n",
      " [ 1.75151339 -0.95216335]\n",
      " [ 1.08436254 -0.95009049]\n",
      " [ 1.164238   -0.95565058]\n",
      " [ 0.89491395 -0.97919997]\n",
      " [ 1.27092184 -0.94209183]\n",
      " [ 1.43437594 -0.9675536 ]\n",
      " [ 0.79298814 -0.99034254]\n",
      " [ 0.51825571 -0.94587292]\n",
      " [ 1.33792083 -0.95468246]\n",
      " [ 0.70745604 -0.96693228]\n",
      " [ 0.59480258 -0.93777156]\n",
      " [ 1.15142303 -0.93942191]\n",
      " [ 0.3842945  -0.96241663]\n",
      " [ 1.04956929 -0.94143957]\n",
      " [ 0.91229634 -0.93906948]\n",
      " [ 1.91255893 -0.96557066]\n",
      " [ 0.75238108 -0.97193253]\n",
      " [ 0.83016145 -0.95457429]\n",
      " [ 0.91248602 -0.96150306]\n",
      " [ 0.90696347 -0.95182185]\n",
      " [ 0.35415165 -0.97014405]\n",
      " [ 1.90052133 -0.9607846 ]\n",
      " [ 1.51676078 -0.95483215]\n",
      " [ 0.92480713 -0.96290008]\n",
      " [ 1.38531924 -0.95652873]\n",
      " [ 0.81670648 -0.944741  ]\n",
      " [ 1.58027769 -0.95670981]\n",
      " [ 0.66928679 -0.93408191]\n",
      " [ 0.40517123 -0.97101054]\n",
      " [ 0.71811055 -0.97575901]\n",
      " [ 1.26185292 -0.95074633]\n",
      " [ 1.07685166 -0.94433609]\n",
      " [ 1.62852748 -0.9438525 ]\n",
      " [ 0.98773882 -0.96937668]\n",
      " [ 0.48612866 -0.98457222]\n",
      " [ 1.09023518 -0.95675113]\n",
      " [ 0.95468582 -0.95564442]\n",
      " [ 0.46654669 -0.97381463]\n",
      " [ 0.86341207 -0.9608769 ]\n",
      " [ 0.86954869 -0.95947845]\n",
      " [ 0.69812925 -0.97665218]\n",
      " [ 1.3854786  -0.9748695 ]]\n"
     ]
    }
   ],
   "source": [
    "mean_val = np.mean(dataset2)\n",
    "std_val = np.std(dataset2)\n",
    "Gaussian_normalized = (dataset2 - mean_val) / std_val #z-score\n",
    "print(Gaussian_normalized)"
   ]
  },
  {
   "cell_type": "markdown",
   "metadata": {
    "id": "FJnoVtsbWonG"
   },
   "source": [
    "3. In three different plots show the original data, $[0,1]$-normilised, and Gaussian normalised data."
   ]
  },
  {
   "cell_type": "code",
   "execution_count": 45,
   "metadata": {
    "id": "9a0c-0GGWonG"
   },
   "outputs": [
    {
     "data": {
      "text/plain": [
       "<seaborn.axisgrid.FacetGrid at 0x17ec30a70>"
      ]
     },
     "execution_count": 45,
     "metadata": {},
     "output_type": "execute_result"
    },
    {
     "data": {
      "image/png": "[encoded data removed]",
      "text/plain": [
       "<Figure size 558.875x500 with 1 Axes>"
      ]
     },
     "metadata": {},
     "output_type": "display_data"
    },
    {
     "data": {
      "image/png": "[encoded data removed]",
      "text/plain": [
       "<Figure size 558.875x500 with 1 Axes>"
      ]
     },
     "metadata": {},
     "output_type": "display_data"
    },
    {
     "data": {
      "image/png": "[encoded data removed]",
      "text/plain": [
       "<Figure size 558.875x500 with 1 Axes>"
      ]
     },
     "metadata": {},
     "output_type": "display_data"
    }
   ],
   "source": [
    "sns.displot(normalizedData, kind='kde')\n",
    "sns.displot(Gaussian_normalized, kind='kde')\n",
    "sns.displot(dataset2, kind='kde')"
   ]
  },
  {
   "cell_type": "code",
   "execution_count": null,
   "metadata": {},
   "outputs": [],
   "source": []
  },
  {
   "cell_type": "markdown",
   "metadata": {
    "id": "_ZzUFbtvWonH"
   },
   "source": [
    "---\n",
    "\n",
    "## Exercise 3\n",
    "\n",
    "Given training ($\\texttt{y_true}$) and predicted ($\\texttt{y_pred}$) data for binary classification, where 1 corresponds to the positive class and 0 corresponds to the negative class, compute\n",
    "1. The number of True Positives, True Negatives, False Positives, False Negatives\n",
    "2. Accuracy\n",
    "3. Precision\n",
    "4. Recall\n",
    "5. F-score"
   ]
  },
  {
   "cell_type": "code",
   "execution_count": null,
   "metadata": {
    "id": "hUR_vzmTWonH"
   },
   "outputs": [],
   "source": [
    "y_true = np.array([0, 1, 0, 0, 1, 1, 1, 0, 1, 1, 0, 0, 1, 1, 0, 1, 0, 1, 0, 0, 0, 0, 1, 1, 1, 1, 1, 0, 0, 1, 1, 1, 1, 1, 1, 1, 0, 0, 1, 1, 1, 0, 0, 1, 1, 1, 1, 0, 1, 0])\n",
    "y_pred = np.array([0, 1, 0, 0, 1, 0, 1, 1, 1, 1, 0, 0, 0, 0, 0, 1, 0, 1, 0, 0, 1, 1, 1, 0, 1, 1, 1, 0, 1, 1, 1, 1, 1, 1, 1, 1, 0, 0, 1, 1, 0, 0, 0, 0, 1, 1, 0, 1, 0, 0])"
   ]
  },
  {
   "cell_type": "code",
   "execution_count": null,
   "metadata": {
    "id": "x_Kk4NmoWonH"
   },
   "outputs": [],
   "source": []
  },
  {
   "cell_type": "markdown",
   "metadata": {
    "id": "_QxVDuGjWonH"
   },
   "source": [
    "---\n",
    "\n",
    "## Exercise 4\n",
    "\n",
    "Given training and predicted data for 4-class classification, where classes are 0,1,2,3"
   ]
  },
  {
   "cell_type": "code",
   "execution_count": null,
   "metadata": {
    "id": "8WMozxqCWonH"
   },
   "outputs": [],
   "source": [
    "y_true = np.array([1, 2, 3, 0, 1, 1, 0, 0, 2, 0, 2, 2, 1, 0, 1, 2, 3, 3, 3, 3, 0, 0, 1, 0, 0, 0, 1, 0, 0, 3, 0, 3, 2, 1, 1, 2, 1, 0, 3, 1, 2, 0, 0, 1,3, 2, 3, 3, 3, 0, 3, 1, 0, 1, 0, 2, 0, 3, 3, 3, 2, 0, 1, 3, 0, 1,3, 3, 2, 2, 1, 3, 2, 2, 2, 2, 3, 1, 1, 2, 3, 2, 2, 3, 2, 2, 1, 1,2, 2, 0, 3, 0, 0, 0, 1, 0, 3, 1, 0, 0, 3, 3, 1, 0, 2, 0, 3, 3, 2,1, 0, 3, 2, 0, 1, 3, 1, 2, 1, 3, 2, 2, 2, 2, 3, 3, 3, 2, 0, 2, 2,2, 0, 2, 0, 0, 3, 0, 2, 2, 0, 1, 1, 2, 2, 3, 0, 1, 0, 1, 0, 0, 0,0, 0, 2, 2, 0, 3, 3, 2, 3, 0, 3, 3, 2, 0, 0, 1, 2, 2, 3, 3, 1, 3,1, 2, 1, 2, 0, 0, 0, 0, 2, 2, 1, 3, 0, 2, 1, 1, 1, 1, 3, 2, 1, 3,1, 0])\n",
    "y_pred = np.array([1, 1, 1, 1, 2, 1, 0, 0, 2, 0, 2, 2, 1, 3, 1, 2, 1, 3, 2, 3, 1, 1, 2, 3, 0, 0, 1, 0, 1, 0, 2, 3, 2, 0, 1, 3, 1, 0, 0, 1, 3, 1, 0, 1,3, 3, 3, 3, 3, 1, 3, 1, 2, 2, 0, 2, 0, 3, 3, 3, 0, 2, 2, 3, 2, 2,3, 3, 2, 2, 1, 3, 3, 2, 3, 2, 3, 2, 2, 0, 3, 1, 2, 3, 3, 1, 2, 2,2, 2, 0, 3, 0, 0, 0, 1, 0, 3, 1, 0, 0, 3, 3, 2, 0, 2, 0, 3, 3, 2,1, 0, 3, 2, 0, 1, 3, 1, 2, 1, 0, 3, 2, 2, 0, 3, 3, 3, 2, 1, 2, 3,2, 0, 2, 0, 0, 3, 0, 2, 3, 0, 1, 1, 2, 2, 0, 0, 2, 0, 1, 0, 0, 0,0, 0, 2, 2, 0, 0, 3, 2, 3, 0, 0, 3, 3, 0, 1, 1, 2, 2, 3, 3, 2, 3,1, 2, 1, 2, 1, 1, 0, 0, 2, 2, 1, 3, 0, 2, 1, 1, 1, 1, 3, 3, 1, 3,1, 0])"
   ]
  },
  {
   "cell_type": "markdown",
   "metadata": {
    "id": "l7nW7HExWonI"
   },
   "source": [
    "1. Compute the confusion matrix, i.e. a 4x4 matrix $\\overline{A}$, in which an element $\\overline{A}_{i,j}$ contains the number of elements that were predicted to be in class $i$, while their true class is $j$"
   ]
  },
  {
   "cell_type": "code",
   "execution_count": null,
   "metadata": {
    "id": "WWzBVgOUWonI"
   },
   "outputs": [],
   "source": []
  },
  {
   "cell_type": "markdown",
   "metadata": {
    "id": "AsVdLp6EWonI"
   },
   "source": [
    "2. Compute Precision, Recall, F-score for every class, and compute the macro F-score"
   ]
  },
  {
   "cell_type": "code",
   "execution_count": null,
   "metadata": {
    "id": "0M-qeTeWWonI"
   },
   "outputs": [],
   "source": []
  }
 ],
 "metadata": {
  "colab": {
   "provenance": []
  },
  "kernelspec": {
   "display_name": "Python 3 (ipykernel)",
   "language": "python",
   "name": "python3"
  },
  "language_info": {
   "codemirror_mode": {
    "name": "ipython",
    "version": 3
   },
   "file_extension": ".py",
   "mimetype": "text/x-python",
   "name": "python",
   "nbconvert_exporter": "python",
   "pygments_lexer": "ipython3",
   "version": "3.12.0"
  }
 },
 "nbformat": 4,
 "nbformat_minor": 4
}
