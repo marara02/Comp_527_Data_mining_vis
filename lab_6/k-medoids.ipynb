{
 "cells": [
  {
   "cell_type": "markdown",
   "id": "palestinian-embassy",
   "metadata": {},
   "source": [
    "# Clustering: k-Medoids"
   ]
  },
  {
   "cell_type": "markdown",
   "id": "adjacent-irrigation",
   "metadata": {
    "tags": []
   },
   "source": [
    "In this lab tasks we implement k-Medoids algorithm."
   ]
  },
  {
   "cell_type": "code",
   "execution_count": 1,
   "id": "complimentary-sleeve",
   "metadata": {
    "ExecuteTime": {
     "end_time": "2024-03-12T09:46:50.330918Z",
     "start_time": "2024-03-12T09:46:48.267063Z"
    }
   },
   "outputs": [],
   "source": [
    "import numpy as np\n",
    "import matplotlib.pyplot as plt"
   ]
  },
  {
   "cell_type": "markdown",
   "id": "hungarian-protocol",
   "metadata": {},
   "source": [
    "We start with generating synthetic dataset consisting of four clusters."
   ]
  },
  {
   "cell_type": "code",
   "execution_count": null,
   "id": "narrative-mustang",
   "metadata": {
    "tags": []
   },
   "outputs": [],
   "source": [
    "N = 100\n",
    "\n",
    "#Generate dataset\n",
    "np.random.seed(844)\n",
    "clust1 = np.random.normal(5, 2, (N,2))\n",
    "clust2 = np.random.normal(15, 2, (N,2))\n",
    "clust3 = np.random.multivariate_normal([17,3], [[1,0],[0,1]], N)\n",
    "clust4 = np.random.multivariate_normal([2,16], [[1,0],[0,1]], N)\n",
    "dataset = np.concatenate((clust1, clust2, clust3, clust4))\n",
    "\n",
    "#Create an array that stores cluster IDs of every object in our dataset\n",
    "#We will use the index of a medoid as a cluster ID\n",
    "clusters = np.zeros((len(dataset),1))"
   ]
  },
  {
   "cell_type": "code",
   "execution_count": null,
   "id": "included-penguin",
   "metadata": {},
   "outputs": [],
   "source": [
    "def cluster_plots(dataset, medoidInd=[], colours = 'gray', title = 'Dataset'):\n",
    "    fig,ax = plt.subplots()\n",
    "    fig.set_size_inches(12, 12)\n",
    "    ax.set_title(title,fontsize=14)\n",
    "    ax.set_xlim(min(dataset[:,0]), max(dataset[:,0]))\n",
    "    ax.set_ylim(min(dataset[:,1]), max(dataset[:,1]))\n",
    "    ax.scatter(dataset[:, 0], dataset[:, 1],s=8,lw=1,c= colours)\n",
    "\n",
    "    #Plot medoids if they are given\n",
    "    if len(medoidInd) > 0:\n",
    "        ax.scatter(dataset[medoidInd, 0], dataset[medoidInd, 1],s=8,lw=6,c='red')\n",
    "    fig.tight_layout()\n",
    "    plt.show()"
   ]
  },
  {
   "cell_type": "markdown",
   "id": "tracked-calculation",
   "metadata": {},
   "source": [
    "Let's plot our dataset"
   ]
  },
  {
   "cell_type": "code",
   "execution_count": null,
   "id": "regulation-hollow",
   "metadata": {},
   "outputs": [],
   "source": [
    "cluster_plots(dataset, colours=clusters, title='Unclustered data')"
   ]
  },
  {
   "cell_type": "markdown",
   "id": "trained-westminster",
   "metadata": {},
   "source": [
    "## Exercise 1"
   ]
  },
  {
   "cell_type": "markdown",
   "id": "legitimate-forum",
   "metadata": {},
   "source": [
    "Implement k-medoids algorithm. Use the Euclidean distance as the dissimilarity measure."
   ]
  },
  {
   "cell_type": "code",
   "execution_count": null,
   "id": "simplified-triple",
   "metadata": {},
   "outputs": [],
   "source": []
  },
  {
   "cell_type": "markdown",
   "id": "welcome-vietnam",
   "metadata": {
    "tags": []
   },
   "source": [
    "## Exercise 2"
   ]
  },
  {
   "cell_type": "markdown",
   "id": "american-quilt",
   "metadata": {
    "tags": []
   },
   "source": [
    "1. Apply the implemented k-medoids algorithm to the generated dataset with the parameter k=4.\n",
    "2. For every iteration of the algorithm  \n",
    "    - output the current value of the objective function\n",
    "    - output the indices of the current medoid objects\n",
    "    - plot the clustering together with medoids"
   ]
  },
  {
   "cell_type": "code",
   "execution_count": null,
   "id": "academic-provision",
   "metadata": {},
   "outputs": [],
   "source": []
  }
 ],
 "metadata": {
  "kernelspec": {
   "display_name": "Python 3",
   "language": "python",
   "name": "python3"
  },
  "language_info": {
   "codemirror_mode": {
    "name": "ipython",
    "version": 3
   },
   "file_extension": ".py",
   "mimetype": "text/x-python",
   "name": "python",
   "nbconvert_exporter": "python",
   "pygments_lexer": "ipython3",
   "version": "3.9.2"
  }
 },
 "nbformat": 4,
 "nbformat_minor": 5
}
