{
 "cells": [
  {
   "cell_type": "markdown",
   "metadata": {
    "id": "kDacRLhlB53U"
   },
   "source": [
    "# K-nearest neighbour classifier"
   ]
  },
  {
   "cell_type": "code",
   "execution_count": 1,
   "metadata": {
    "id": "JnqS7R24nirp"
   },
   "outputs": [],
   "source": [
    "import numpy as np"
   ]
  },
  {
   "cell_type": "markdown",
   "metadata": {
    "id": "lhPO1WqoB53Z"
   },
   "source": [
    "When developing algorithms it is often desirable to have datasets for testing purposes. When there is no access to a suitable dataset, sometimes it is convenient to generate synthetic data. In this tutorial, we will  \n",
    "1. create synthetic datasets consisting of two classes of objects;\n",
    "2. develop the k-NN algorithm;\n",
    "3. evaluate the algorithm's ability to separate the two classes of objects."
   ]
  },
  {
   "cell_type": "markdown",
   "metadata": {
    "id": "81Goubf2B53Z"
   },
   "source": [
    "## Excercise 1. Create synthetic dataset"
   ]
  },
  {
   "cell_type": "markdown",
   "metadata": {
    "id": "j-sUJxXbB53Z"
   },
   "source": [
    "We would like to generate training and validation datasets for binary classification. For visualisation purposes, we will assume that our objects have 2 numeric features. We would like to generate 2 \"cloulds\" of points on the plane corresponding to the positive and negative objects respectively. To do this, one can generate random points from a [multivariate normal distribution](https://en.wikipedia.org/wiki/Multivariate_normal_distribution) (function $\\texttt{np.random.multivariate_normal}$). For example, $\\texttt{np.random.multivariate_normal([a,b], [[1,0],[0,1]], N)}$ will generate a set on N points scattered around the *mean* point $(a,b)$."
   ]
  },
  {
   "cell_type": "markdown",
   "metadata": {
    "id": "r6MUT2BDB53Z"
   },
   "source": [
    "1. Create two sets of $N=10$ points. The first set scattered around the point $(0,0)$ and the second scattered around the point $(2,2)$. These sets of points will correspond to the positive and the negative class respectively."
   ]
  },
  {
   "cell_type": "code",
   "execution_count": 2,
   "metadata": {
    "id": "uQuhgi6iB53Z"
   },
   "outputs": [],
   "source": [
    "N = 10"
   ]
  },
  {
   "cell_type": "code",
   "execution_count": 6,
   "metadata": {
    "id": "TqwTQ2lOB53a"
   },
   "outputs": [
    {
     "data": {
      "text/plain": [
       "array([[1.97656635, 1.39735386],\n",
       "       [0.74409742, 2.65077183],\n",
       "       [1.35953162, 1.12305107],\n",
       "       [2.51042781, 2.65919593],\n",
       "       [1.92453006, 2.19872125],\n",
       "       [2.93411563, 1.23084226],\n",
       "       [0.55858717, 2.54022367],\n",
       "       [1.64790968, 0.8782918 ],\n",
       "       [1.86941674, 0.43730368],\n",
       "       [3.03649752, 2.68111173]])"
      ]
     },
     "execution_count": 6,
     "metadata": {},
     "output_type": "execute_result"
    }
   ],
   "source": [
    "dataset_1 = np.random.multivariate_normal([0,0], [[1,0],[0,1]], N)\n",
    "dataset_2 = np.random.multivariate_normal([2,2], [[1,0],[0,1]], N)\n",
    "\n",
    "dataset_1\n",
    "dataset_2"
   ]
  },
  {
   "cell_type": "markdown",
   "metadata": {
    "id": "jVP933PjB53a"
   },
   "source": [
    "2. Plot the generated sets of points. Use different colours or markers for different classes."
   ]
  },
  {
   "cell_type": "code",
   "execution_count": 7,
   "metadata": {
    "id": "kNd5TGBuB53a"
   },
   "outputs": [
    {
     "data": {
      "image/png": "[encoded data removed]",
      "text/plain": [
       "<Figure size 640x480 with 1 Axes>"
      ]
     },
     "metadata": {},
     "output_type": "display_data"
    }
   ],
   "source": [
    "import matplotlib.pyplot as plt\n",
    "\n",
    "x_coords = [point[0] for point in dataset_1]\n",
    "y_coords = [point[1] for point in dataset_1]\n",
    "\n",
    "# Plot the points\n",
    "plt.scatter(x_coords, y_coords)\n",
    "plt.xlabel('X-axis')\n",
    "plt.ylabel('Y-axis')\n",
    "plt.title('Plot of Points')\n",
    "plt.grid(True)\n",
    "plt.show()"
   ]
  },
  {
   "cell_type": "markdown",
   "metadata": {
    "id": "DbsWKePOB53a"
   },
   "source": [
    "3. Split each of the sets into equal train and validation portions. As a result you should have four sets:\n",
    "- positive object in the train dataset;\n",
    "- positive object in the validation dataset;\n",
    "- negataive object in the train dataset;\n",
    "- negataive object in the validation dataset;\n",
    "\n",
    "To confirm that the sets have equal numbers of objects, print the number of elements in each set."
   ]
  },
  {
   "cell_type": "code",
   "execution_count": 12,
   "metadata": {
    "id": "4M8bjuyfnisE"
   },
   "outputs": [
    {
     "ename": "NameError",
     "evalue": "name 'df' is not defined",
     "output_type": "error",
     "traceback": [
      "\u001b[0;31m---------------------------------------------------------------------------\u001b[0m",
      "\u001b[0;31mNameError\u001b[0m                                 Traceback (most recent call last)",
      "Cell \u001b[0;32mIn[12], line 2\u001b[0m\n\u001b[1;32m      1\u001b[0m train, validate, test \u001b[38;5;241m=\u001b[39m \\\n\u001b[0;32m----> 2\u001b[0m               np\u001b[38;5;241m.\u001b[39msplit(\u001b[43mdf\u001b[49m\u001b[38;5;241m.\u001b[39msample(frac\u001b[38;5;241m=\u001b[39m\u001b[38;5;241m1\u001b[39m, random_state\u001b[38;5;241m=\u001b[39m\u001b[38;5;241m42\u001b[39m), \n\u001b[1;32m      3\u001b[0m                        [\u001b[38;5;28mint\u001b[39m(\u001b[38;5;241m.6\u001b[39m\u001b[38;5;241m*\u001b[39m\u001b[38;5;28mlen\u001b[39m(dataset_1)), \u001b[38;5;28mint\u001b[39m(\u001b[38;5;241m.8\u001b[39m\u001b[38;5;241m*\u001b[39m\u001b[38;5;28mlen\u001b[39m(dataset_1))])\n",
      "\u001b[0;31mNameError\u001b[0m: name 'df' is not defined"
     ]
    }
   ],
   "source": [
    "train, validate, test = \\\n",
    "              np.split(df.sample(frac=1, random_state=42), \n",
    "                       [int(.6*len(dataset_1)), int(.8*len(dataset_1))])\n"
   ]
  },
  {
   "cell_type": "markdown",
   "metadata": {
    "id": "inM3_7qvB53b"
   },
   "source": [
    "4. Add an extra freature (representing the class label: +1 for the positive class, -1 for the negative class) to the train and validation instances. As a result you will have two datasets, each consisting of tuples (label, instance)."
   ]
  },
  {
   "cell_type": "code",
   "execution_count": null,
   "metadata": {
    "id": "TCYl3vQWnisS"
   },
   "outputs": [],
   "source": []
  },
  {
   "cell_type": "markdown",
   "metadata": {
    "id": "yq9AGUOTB53b"
   },
   "source": [
    "## Excercise 2. Develop the k-NN algorithm"
   ]
  },
  {
   "cell_type": "markdown",
   "metadata": {
    "id": "LRyCHG07B53b"
   },
   "source": [
    "Implement k-NN prediction function that uses the training dataset from the previous exercise. Use cosine similarity as a \"measure of distance\". The larger the similarity between two objects, the closer the objects are to each other."
   ]
  },
  {
   "cell_type": "markdown",
   "metadata": {
    "id": "wECY1E1jnisj"
   },
   "source": [
    "1. Create the cosine similarity function that will be used in the k-NN prediction function to find the neighbours. The function should take two vectors as input and output the cosine similarity between the vectors."
   ]
  },
  {
   "cell_type": "code",
   "execution_count": null,
   "metadata": {
    "id": "J6VfNVJTniso"
   },
   "outputs": [],
   "source": []
  },
  {
   "cell_type": "markdown",
   "metadata": {
    "id": "D15_YJKXnist"
   },
   "source": [
    "2. Implement a function that predicts the class of a validation instance using the k-NN algorithm. The function should take a validation instance and the parameter $k$ as input, and output predicted class of the validation instance (+1 or -1)."
   ]
  },
  {
   "cell_type": "code",
   "execution_count": null,
   "metadata": {
    "id": "FKh9Ze2Znisw"
   },
   "outputs": [],
   "source": []
  },
  {
   "cell_type": "markdown",
   "metadata": {
    "id": "-OeZE7N5B53c"
   },
   "source": [
    "## Excercise 3. Evaluate the algorithm"
   ]
  },
  {
   "cell_type": "markdown",
   "metadata": {
    "id": "LzC00JZmB53c"
   },
   "source": [
    "1. Implement $\\texttt{kNNaccuracy}$ function that takes the parameter $k$ and the validation dataset as input and output the accuracy of the k-NN algorithm on the validation dataset. Use the function to compute the accuracy of prediciton of the k-NN classifier on the validation dataset, when $k = 5$."
   ]
  },
  {
   "cell_type": "code",
   "execution_count": null,
   "metadata": {
    "id": "40dffWDgnitG"
   },
   "outputs": [],
   "source": []
  },
  {
   "cell_type": "markdown",
   "metadata": {
    "id": "kecwL98AB53c"
   },
   "source": [
    "2. Generate new datasets with $N=100$. Compute accuracies of k-NN for all odd $k$ from 1 to 99. Plot k-NN accuracy versus $k$. What is the best value of $k$ for the validation dataset?"
   ]
  },
  {
   "cell_type": "code",
   "execution_count": null,
   "metadata": {
    "id": "mkQWGaFIB53c"
   },
   "outputs": [],
   "source": []
  },
  {
   "cell_type": "markdown",
   "metadata": {
    "id": "MWoB_tlonitK"
   },
   "source": [
    "3. Conduct further experiments:\n",
    "    * change the value of $k$\n",
    "    * increase the number of instances $N$ (make sure that $N$ is even)\n",
    "    * separate or bring together the two classes by adjusting the means of the two Gaussians.\n",
    "\n",
    "How does the accuracy vary in each case?"
   ]
  },
  {
   "cell_type": "code",
   "execution_count": null,
   "metadata": {
    "id": "g4-c2DvxB53c"
   },
   "outputs": [],
   "source": []
  }
 ],
 "metadata": {
  "colab": {
   "provenance": []
  },
  "kernelspec": {
   "display_name": "Python 3 (ipykernel)",
   "language": "python",
   "name": "python3"
  },
  "language_info": {
   "codemirror_mode": {
    "name": "ipython",
    "version": 3
   },
   "file_extension": ".py",
   "mimetype": "text/x-python",
   "name": "python",
   "nbconvert_exporter": "python",
   "pygments_lexer": "ipython3",
   "version": "3.12.1"
  }
 },
 "nbformat": 4,
 "nbformat_minor": 4
}
